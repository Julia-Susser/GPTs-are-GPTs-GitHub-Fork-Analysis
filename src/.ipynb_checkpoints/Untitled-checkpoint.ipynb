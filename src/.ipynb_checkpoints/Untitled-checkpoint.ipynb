{
 "cells": [
  {
   "cell_type": "code",
   "execution_count": null,
   "id": "809f646f",
   "metadata": {},
   "outputs": [],
   "source": [
    "\n",
    "dfStargazers[\"starred_at\"] = pd.to_datetime(dfStargazers[\"starred_at\"].apply(lambda x: x[:-1]))\n",
    "dfStargazers[\"year-mo\"] = dfStargazers[\"starred_at\"].dt.to_period('M')\n",
    "data = self.dfStargazers.groupby(\"year-mo\")[\"id\"].count().reset_index()\n",
    "data[\"year-mo\"] = data[\"year-mo\"].dt.to_timestamp()\n",
    "sns.lineplot(data=data, x=\"year-mo\", y=\"id\")\n",
    "plt.show()"
   ]
  }
 ],
 "metadata": {
  "kernelspec": {
   "display_name": "Python 3 (ipykernel)",
   "language": "python",
   "name": "python3"
  },
  "language_info": {
   "codemirror_mode": {
    "name": "ipython",
    "version": 3
   },
   "file_extension": ".py",
   "mimetype": "text/x-python",
   "name": "python",
   "nbconvert_exporter": "python",
   "pygments_lexer": "ipython3",
   "version": "3.9.13"
  }
 },
 "nbformat": 4,
 "nbformat_minor": 5
}
